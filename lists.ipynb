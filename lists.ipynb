{
 "cells": [
  {
   "cell_type": "code",
   "execution_count": 1,
   "id": "0bed5743-13ca-4da5-823d-74e37c5db35a",
   "metadata": {},
   "outputs": [
    {
     "name": "stdout",
     "output_type": "stream",
     "text": [
      "(1, 23, 20)\n"
     ]
    }
   ],
   "source": [
    "def convert_seconds(seconds):\n",
    "  hours = seconds // 3600\n",
    "  minutes = (seconds - hours * 3600) // 60\n",
    "  remaining_seconds = seconds - hours * 3600 - minutes * 60\n",
    "  return hours, minutes, remaining_seconds\n",
    "result = convert_seconds(5000)\n",
    "print(result)"
   ]
  },
  {
   "cell_type": "code",
   "execution_count": 2,
   "id": "9dcdb2aa-211a-4ca5-a285-01df835d87d5",
   "metadata": {},
   "outputs": [
    {
     "name": "stdout",
     "output_type": "stream",
     "text": [
      "1 23 20\n"
     ]
    }
   ],
   "source": [
    "def convert_seconds(seconds):\n",
    "  hours = seconds // 3600\n",
    "  minutes = (seconds - hours * 3600) // 60\n",
    "  remaining_seconds = seconds - hours * 3600 - minutes * 60\n",
    "  return hours, minutes, remaining_seconds\n",
    "result = convert_seconds(5000)\n",
    "hours, minutes, seconds = result\n",
    "print(hours, minutes, seconds)"
   ]
  },
  {
   "cell_type": "code",
   "execution_count": 3,
   "id": "8304b437-622f-4325-9455-d327c864a956",
   "metadata": {},
   "outputs": [
    {
     "name": "stdout",
     "output_type": "stream",
     "text": [
      "0 16 40\n"
     ]
    }
   ],
   "source": [
    "def convert_seconds(seconds):\n",
    "  hours = seconds // 3600\n",
    "  minutes = (seconds - hours * 3600) // 60\n",
    "  remaining_seconds = seconds - hours * 3600 - minutes * 60\n",
    "  return hours, minutes, remaining_seconds\n",
    "hours, minutes, seconds = convert_seconds(1000)\n",
    "print(hours, minutes, seconds)"
   ]
  },
  {
   "cell_type": "code",
   "execution_count": null,
   "id": "7d82f7cb-7538-4305-94d9-4e94de6005e3",
   "metadata": {},
   "outputs": [],
   "source": []
  }
 ],
 "metadata": {
  "kernelspec": {
   "display_name": "Python 3 (ipykernel)",
   "language": "python",
   "name": "python3"
  },
  "language_info": {
   "codemirror_mode": {
    "name": "ipython",
    "version": 3
   },
   "file_extension": ".py",
   "mimetype": "text/x-python",
   "name": "python",
   "nbconvert_exporter": "python",
   "pygments_lexer": "ipython3",
   "version": "3.12.7"
  }
 },
 "nbformat": 4,
 "nbformat_minor": 5
}
