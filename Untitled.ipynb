{
 "cells": [
  {
   "cell_type": "code",
   "execution_count": null,
   "id": "ddb8cda7-c464-4239-9600-f275903ff4f9",
   "metadata": {},
   "outputs": [
    {
     "name": "stdout",
     "output_type": "stream",
     "text": [
      "To-Do List App\n",
      "1. Show Tasks\n",
      "2. Add Task\n",
      "3. Remove Task\n",
      "4. Exit\n"
     ]
    }
   ],
   "source": [
    "# todo_app.py\n",
    "\n",
    "import os\n",
    "\n",
    "TODO_FILE = \"todo.txt\"\n",
    "\n",
    "def load_tasks():\n",
    "    if not os.path.exists(TODO_FILE):\n",
    "        return []\n",
    "    with open(TODO_FILE, \"r\") as f:\n",
    "        return [line.strip() for line in f.readlines()]\n",
    "\n",
    "def save_tasks(tasks):\n",
    "    with open(TODO_FILE, \"w\") as f:\n",
    "        for task in tasks:\n",
    "            f.write(task + \"\\n\")\n",
    "\n",
    "def show_tasks(tasks):\n",
    "    if not tasks:\n",
    "        print(\"Your to-do list is empty.\")\n",
    "    else:\n",
    "        print(\"\\nYour To-Do List:\")\n",
    "        for idx, task in enumerate(tasks, start=1):\n",
    "            print(f\"{idx}. {task}\")\n",
    "    print()\n",
    "\n",
    "def add_task(tasks):\n",
    "    task = input(\"Enter a new task: \")\n",
    "    tasks.append(task)\n",
    "    save_tasks(tasks)\n",
    "    print(\"Task added.\\n\")\n",
    "\n",
    "def remove_task(tasks):\n",
    "    show_tasks(tasks)\n",
    "    try:\n",
    "        index = int(input(\"Enter the number of the task to remove: \")) - 1\n",
    "        if 0 <= index < len(tasks):\n",
    "            removed = tasks.pop(index)\n",
    "            save_tasks(tasks)\n",
    "            print(f\"Removed: {removed}\\n\")\n",
    "        else:\n",
    "            print(\"Invalid task number.\\n\")\n",
    "    except ValueError:\n",
    "        print(\"Please enter a valid number.\\n\")\n",
    "\n",
    "def main():\n",
    "    tasks = load_tasks()\n",
    "    while True:\n",
    "        print(\"To-Do List App\")\n",
    "        print(\"1. Show Tasks\")\n",
    "        print(\"2. Add Task\")\n",
    "        print(\"3. Remove Task\")\n",
    "        print(\"4. Exit\")\n",
    "\n",
    "        choice = input(\"Choose an option (1-4): \")\n",
    "        print()\n",
    "\n",
    "        if choice == \"1\":\n",
    "            show_tasks(tasks)\n",
    "        elif choice == \"2\":\n",
    "            add_task(tasks)\n",
    "        elif choice == \"3\":\n",
    "            remove_task(tasks)\n",
    "        elif choice == \"4\":\n",
    "            print(\"Goodbye!\")\n",
    "            break\n",
    "        else:\n",
    "            print(\"Invalid choice. Try again.\\n\")\n",
    "\n",
    "if __name__ == \"__main__\":\n",
    "    main()\n"
   ]
  },
  {
   "cell_type": "code",
   "execution_count": null,
   "id": "05f65672-153d-46d3-a849-4cedb64e0bdf",
   "metadata": {},
   "outputs": [],
   "source": []
  }
 ],
 "metadata": {
  "kernelspec": {
   "display_name": "Python 3 (ipykernel)",
   "language": "python",
   "name": "python3"
  },
  "language_info": {
   "codemirror_mode": {
    "name": "ipython",
    "version": 3
   },
   "file_extension": ".py",
   "mimetype": "text/x-python",
   "name": "python",
   "nbconvert_exporter": "python",
   "pygments_lexer": "ipython3",
   "version": "3.12.7"
  }
 },
 "nbformat": 4,
 "nbformat_minor": 5
}
